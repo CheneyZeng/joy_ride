{
 "cells": [
  {
   "cell_type": "code",
   "execution_count": 1,
   "metadata": {},
   "outputs": [
    {
     "name": "stdout",
     "output_type": "stream",
     "text": [
      "pygame 1.9.4\n",
      "Hello from the pygame community. https://www.pygame.org/contribute.html\n"
     ]
    }
   ],
   "source": [
    "#initialize the screen\n",
    "import pygame, math, sys\n",
    "from pygame.locals import *\n",
    "\n",
    "def level3():\n",
    "    pygame.init()\n",
    "    screen = pygame.display.set_mode((1024, 768))\n",
    "    #GAME CLOCK\n",
    "    clock = pygame.time.Clock()\n",
    "    font = pygame.font.Font(None, 75)\n",
    "    win_font = pygame.font.Font(None, 50)\n",
    "    win_condition = True\n",
    "    \n",
    "\n",
    "    class CarSprite(pygame.sprite.Sprite):\n",
    "        MAX_FORWARD_SPEED = 10\n",
    "        MAX_REVERSE_SPEED = 10\n",
    "        ACCELERATION = 2\n",
    "        TURN_SPEED = 10\n",
    "\n",
    "        def __init__(self, image, position):\n",
    "            pygame.sprite.Sprite.__init__(self)\n",
    "            self.src_image = pygame.image.load(image)\n",
    "            self.position = position\n",
    "            self.speed = self.direction = 0\n",
    "            self.k_left = self.k_right = self.k_down = self.k_up = 0\n",
    "        \n",
    "        def update(self, deltat):\n",
    "            #SIMULATION\n",
    "            self.speed += (self.k_up + self.k_down)\n",
    "            if self.speed > self.MAX_FORWARD_SPEED:\n",
    "                self.speed = self.MAX_FORWARD_SPEED\n",
    "            if self.speed < -self.MAX_REVERSE_SPEED:\n",
    "                self.speed = -self.MAX_REVERSE_SPEED\n",
    "            self.direction += (self.k_right + self.k_left)\n",
    "            x, y = (self.position)\n",
    "            rad = self.direction * math.pi / 180\n",
    "            x += -self.speed*math.sin(rad)\n",
    "            y += -self.speed*math.cos(rad)\n",
    "            self.position = (x, y)\n",
    "            self.image = pygame.transform.rotate(self.src_image, self.direction)\n",
    "            self.rect = self.image.get_rect()\n",
    "            self.rect.center = self.position\n",
    "\n",
    "\n",
    "    # CREATE A CAR AND RUN\n",
    "    rect = screen.get_rect()\n",
    "    car = CarSprite('car.png', (10, 730))\n",
    "    car_group = pygame.sprite.RenderPlain(car)\n",
    "\n",
    "    #THE GAME LOOP\n",
    "    while win_condition:\n",
    "        #USER INPUT\n",
    "\n",
    "        deltat = clock.tick(30)\n",
    "        for event in pygame.event.get():\n",
    "            if not hasattr(event, 'key'): continue\n",
    "            down = event.type == KEYDOWN \n",
    "            \n",
    "            if event.key == K_RIGHT: car.k_right = down * -5 \n",
    "            elif event.key == K_LEFT: car.k_left = down * 5\n",
    "            elif event.key == K_UP: car.k_up = down * 2\n",
    "            elif event.key == K_DOWN: car.k_down = down * -2 \n",
    "            elif event.key == K_ESCAPE: \n",
    "                pygame.quit()\n",
    "                win_condition = False\n",
    "                exit()\n",
    "\n",
    "            #RENDERING\n",
    "        if win_condition:\n",
    "            screen.fill((0,0,0))\n",
    "            car_group.update(deltat)\n",
    "\n",
    "            car_group.draw(screen)\n",
    "\n",
    "            #Counter Render\n",
    "            pygame.display.flip()\n"
   ]
  },
  {
   "cell_type": "code",
   "execution_count": 2,
   "metadata": {},
   "outputs": [],
   "source": [
    "level3()"
   ]
  }
 ],
 "metadata": {
  "kernelspec": {
   "display_name": "Python 3",
   "language": "python",
   "name": "python3"
  },
  "language_info": {
   "codemirror_mode": {
    "name": "ipython",
    "version": 3
   },
   "file_extension": ".py",
   "mimetype": "text/x-python",
   "name": "python",
   "nbconvert_exporter": "python",
   "pygments_lexer": "ipython3",
   "version": "3.6.4"
  }
 },
 "nbformat": 4,
 "nbformat_minor": 2
}
